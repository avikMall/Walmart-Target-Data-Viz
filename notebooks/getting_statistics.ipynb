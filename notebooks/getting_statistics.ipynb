{
 "cells": [
  {
   "cell_type": "code",
   "execution_count": 12,
   "metadata": {},
   "outputs": [],
   "source": [
    "import pandas as pd\n",
    "\n",
    "walmart_df = pd.read_csv('walmart_with_footTraffic.csv')\n",
    "target_df = pd.read_csv('target_with_footTraffic.csv')"
   ]
  },
  {
   "cell_type": "code",
   "execution_count": 13,
   "metadata": {},
   "outputs": [],
   "source": [
    "from tabulate import tabulate\n",
    "\n",
    "def get_table(column):\n",
    "    walmart_income = walmart_df[column]\n",
    "    target_income = target_df[column]\n",
    "\n",
    "    walmart_stats = walmart_income.describe()\n",
    "\n",
    "    target_stats = target_income.describe()\n",
    "\n",
    "    comparative_stats = pd.DataFrame({\n",
    "        'Walmart': walmart_stats,\n",
    "        'Target': target_stats\n",
    "    })\n",
    "\n",
    "    comparative_stats.index.name = 'Statistic'\n",
    "    comparative_stats.reset_index(inplace=True)\n",
    "\n",
    "    return tabulate(comparative_stats, headers='keys', tablefmt='grid')"
   ]
  },
  {
   "cell_type": "code",
   "execution_count": 14,
   "metadata": {},
   "outputs": [
    {
     "name": "stdout",
     "output_type": "stream",
     "text": [
      "+----+-------------+------------------+------------------+\n",
      "|    | Statistic   |          Walmart |           Target |\n",
      "+====+=============+==================+==================+\n",
      "|  0 | count       |   4646           |   1771           |\n",
      "+----+-------------+------------------+------------------+\n",
      "|  1 | mean        | 140929           | 252594           |\n",
      "+----+-------------+------------------+------------------+\n",
      "|  2 | std         | 361008           | 483014           |\n",
      "+----+-------------+------------------+------------------+\n",
      "|  3 | min         |     45.445       |    105.56        |\n",
      "+----+-------------+------------------+------------------+\n",
      "|  4 | 25%         |   5573.34        |  17117.5         |\n",
      "+----+-------------+------------------+------------------+\n",
      "|  5 | 50%         |  24652.3         |  84835.8         |\n",
      "+----+-------------+------------------+------------------+\n",
      "|  6 | 75%         | 113919           | 243449           |\n",
      "+----+-------------+------------------+------------------+\n",
      "|  7 | max         |      3.06133e+06 |      2.40293e+06 |\n",
      "+----+-------------+------------------+------------------+\n"
     ]
    }
   ],
   "source": [
    "print(get_table('footTraffic'))"
   ]
  }
 ],
 "metadata": {
  "kernelspec": {
   "display_name": "Python 3",
   "language": "python",
   "name": "python3"
  },
  "language_info": {
   "codemirror_mode": {
    "name": "ipython",
    "version": 3
   },
   "file_extension": ".py",
   "mimetype": "text/x-python",
   "name": "python",
   "nbconvert_exporter": "python",
   "pygments_lexer": "ipython3",
   "version": "3.11.4"
  }
 },
 "nbformat": 4,
 "nbformat_minor": 2
}
